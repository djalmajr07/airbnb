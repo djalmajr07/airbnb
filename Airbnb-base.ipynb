{
 "cells": [
  {
   "cell_type": "markdown",
   "id": "1a76a5fc",
   "metadata": {},
   "source": [
    "# 0.0 IMPORTS"
   ]
  },
  {
   "cell_type": "code",
   "execution_count": 71,
   "id": "ad7502a6",
   "metadata": {
    "ExecuteTime": {
     "end_time": "2021-08-17T19:19:37.983010Z",
     "start_time": "2021-08-17T19:19:37.399838Z"
    }
   },
   "outputs": [],
   "source": [
    "import pandas as pd\n",
    "import numpy  as np\n",
    "import seaborn as sns\n",
    "import sklearn\n",
    "\n",
    "from sklearn                 import metrics as m\n",
    "from sklearn                 import preprocessing   as pp\n",
    "from sklearn.model_selection import train_test_split\n",
    "from keras                   import models as ml\n",
    "from keras                   import layers as l\n",
    "from scipy                   import stats  as ss\n",
    "from matplotlib              import pyplot as plt\n",
    "from IPython.display         import Image\n",
    "from IPython.core.display    import HTML\n",
    "from scikitplot              import metrics as mt\n"
   ]
  },
  {
   "cell_type": "markdown",
   "id": "802a7b1f",
   "metadata": {},
   "source": [
    "## 0.1 Helper Functions\n"
   ]
  },
  {
   "cell_type": "code",
   "execution_count": 2,
   "id": "d7d7a1ad",
   "metadata": {
    "ExecuteTime": {
     "end_time": "2021-08-17T16:07:38.983348Z",
     "start_time": "2021-08-17T16:07:38.881520Z"
    }
   },
   "outputs": [
    {
     "name": "stdout",
     "output_type": "stream",
     "text": [
      "Populating the interactive namespace from numpy and matplotlib\n"
     ]
    },
    {
     "data": {
      "text/html": [
       "<style>.container { width:100% !important; }</style>"
      ],
      "text/plain": [
       "<IPython.core.display.HTML object>"
      ]
     },
     "metadata": {},
     "output_type": "display_data"
    }
   ],
   "source": [
    "def cramer_v( x, y ):\n",
    "    cm = pd.crosstab( x, y ).to_numpy()\n",
    "    n = cm.sum()\n",
    "    r, k = cm.shape\n",
    "    \n",
    "    chi2 = ss.chi2_contingency( cm )[0]\n",
    "    chi2corr = max( 0, chi2 - (k-1)*(r-1)/(n-1) )\n",
    "    \n",
    "    kcorr = k - (k-1)**2/(n-1)\n",
    "    rcorr = r - (r-1)**2/(n-1)\n",
    "    \n",
    "    return np.sqrt( (chi2corr/n) / ( min( kcorr-1, rcorr-1 ) ) )\n",
    "\n",
    "\n",
    "def jupyter_settings():\n",
    "    %matplotlib inline\n",
    "    %pylab inline\n",
    "    \n",
    "    plt.style.use( 'bmh' )\n",
    "    plt.rcParams['figure.figsize'] = [25, 12]\n",
    "    plt.rcParams['font.size'] = 24\n",
    "    \n",
    "    display( HTML( '<style>.container { width:100% !important; }</style>') )\n",
    "    pd.options.display.max_columns = None\n",
    "    pd.options.display.max_rows = None\n",
    "    pd.set_option( 'display.expand_frame_repr', False )\n",
    "    \n",
    "    sns.set()\n",
    "    \n",
    "jupyter_settings()"
   ]
  },
  {
   "cell_type": "markdown",
   "id": "f97a50f6",
   "metadata": {},
   "source": [
    "##  0.2 Load dataset"
   ]
  },
  {
   "cell_type": "code",
   "execution_count": 3,
   "id": "7e3b6c37",
   "metadata": {
    "ExecuteTime": {
     "end_time": "2021-08-17T16:07:40.247974Z",
     "start_time": "2021-08-17T16:07:38.989325Z"
    }
   },
   "outputs": [],
   "source": [
    "df_raw = pd.read_csv('C:/Users/Djalma.junior/DS/Airbnb/datasets/train.csv')"
   ]
  },
  {
   "cell_type": "markdown",
   "id": "4f73ee97",
   "metadata": {},
   "source": [
    "#  1.0 DESCRICAO DOS DADOS\n"
   ]
  },
  {
   "cell_type": "code",
   "execution_count": 4,
   "id": "c0330a42",
   "metadata": {
    "ExecuteTime": {
     "end_time": "2021-08-17T16:07:40.309808Z",
     "start_time": "2021-08-17T16:07:40.252961Z"
    }
   },
   "outputs": [],
   "source": [
    "df1 = df_raw.copy()"
   ]
  },
  {
   "cell_type": "markdown",
   "id": "22952d58",
   "metadata": {},
   "source": [
    "## 1.1. Rename Columns"
   ]
  },
  {
   "cell_type": "code",
   "execution_count": 5,
   "id": "2ac1e4db",
   "metadata": {
    "ExecuteTime": {
     "end_time": "2021-08-17T16:07:40.355687Z",
     "start_time": "2021-08-17T16:07:40.313798Z"
    }
   },
   "outputs": [
    {
     "data": {
      "text/plain": [
       "Index(['id', 'date_account_created', 'timestamp_first_active',\n",
       "       'date_first_booking', 'gender', 'age', 'signup_method', 'signup_flow',\n",
       "       'language', 'affiliate_channel', 'affiliate_provider',\n",
       "       'first_affiliate_tracked', 'signup_app', 'first_device_type',\n",
       "       'first_browser', 'country_destination'],\n",
       "      dtype='object')"
      ]
     },
     "execution_count": 5,
     "metadata": {},
     "output_type": "execute_result"
    }
   ],
   "source": [
    "df1.columns"
   ]
  },
  {
   "cell_type": "markdown",
   "id": "566ecdea",
   "metadata": {},
   "source": [
    "## 1.2. Data Dimensions"
   ]
  },
  {
   "cell_type": "code",
   "execution_count": 6,
   "id": "9d585738",
   "metadata": {
    "ExecuteTime": {
     "end_time": "2021-08-17T16:07:40.400566Z",
     "start_time": "2021-08-17T16:07:40.365660Z"
    }
   },
   "outputs": [
    {
     "name": "stdout",
     "output_type": "stream",
     "text": [
      "Number of columns 16\n",
      "Number of rows 213451\n"
     ]
    }
   ],
   "source": [
    "print ('Number of columns {}'.format(df1.shape[1]))\n",
    "print ('Number of rows {}'.format(df1.shape[0]))"
   ]
  },
  {
   "cell_type": "markdown",
   "id": "d83ce3c4",
   "metadata": {},
   "source": [
    "## 1.3. Data Types"
   ]
  },
  {
   "cell_type": "code",
   "execution_count": 7,
   "id": "fd5e2e1c",
   "metadata": {
    "ExecuteTime": {
     "end_time": "2021-08-17T16:07:40.446443Z",
     "start_time": "2021-08-17T16:07:40.407548Z"
    }
   },
   "outputs": [
    {
     "data": {
      "text/plain": [
       "id                          object\n",
       "date_account_created        object\n",
       "timestamp_first_active       int64\n",
       "date_first_booking          object\n",
       "gender                      object\n",
       "age                        float64\n",
       "signup_method               object\n",
       "signup_flow                  int64\n",
       "language                    object\n",
       "affiliate_channel           object\n",
       "affiliate_provider          object\n",
       "first_affiliate_tracked     object\n",
       "signup_app                  object\n",
       "first_device_type           object\n",
       "first_browser               object\n",
       "country_destination         object\n",
       "dtype: object"
      ]
     },
     "execution_count": 7,
     "metadata": {},
     "output_type": "execute_result"
    }
   ],
   "source": [
    "df1.dtypes"
   ]
  },
  {
   "cell_type": "code",
   "execution_count": 8,
   "id": "032f53cb",
   "metadata": {
    "ExecuteTime": {
     "end_time": "2021-08-17T16:07:40.857345Z",
     "start_time": "2021-08-17T16:07:40.452428Z"
    }
   },
   "outputs": [
    {
     "data": {
      "text/plain": [
       "(68171, 16)"
      ]
     },
     "execution_count": 8,
     "metadata": {},
     "output_type": "execute_result"
    }
   ],
   "source": [
    "df1 = df1.dropna()\n",
    "df1.shape"
   ]
  },
  {
   "cell_type": "markdown",
   "id": "fcd2f9bd",
   "metadata": {},
   "source": [
    "## 1.4. Check NA"
   ]
  },
  {
   "cell_type": "code",
   "execution_count": 9,
   "id": "ef06d5be",
   "metadata": {
    "ExecuteTime": {
     "end_time": "2021-08-17T16:07:40.994977Z",
     "start_time": "2021-08-17T16:07:40.861335Z"
    }
   },
   "outputs": [
    {
     "data": {
      "text/plain": [
       "id                         0\n",
       "date_account_created       0\n",
       "timestamp_first_active     0\n",
       "date_first_booking         0\n",
       "gender                     0\n",
       "age                        0\n",
       "signup_method              0\n",
       "signup_flow                0\n",
       "language                   0\n",
       "affiliate_channel          0\n",
       "affiliate_provider         0\n",
       "first_affiliate_tracked    0\n",
       "signup_app                 0\n",
       "first_device_type          0\n",
       "first_browser              0\n",
       "country_destination        0\n",
       "dtype: int64"
      ]
     },
     "execution_count": 9,
     "metadata": {},
     "output_type": "execute_result"
    }
   ],
   "source": [
    "df1.isna().sum()"
   ]
  },
  {
   "cell_type": "markdown",
   "id": "352bcb71",
   "metadata": {},
   "source": [
    "## 1.5 Change NA"
   ]
  },
  {
   "cell_type": "code",
   "execution_count": 19,
   "id": "f8771575",
   "metadata": {
    "ExecuteTime": {
     "end_time": "2021-08-17T16:11:03.299255Z",
     "start_time": "2021-08-17T16:11:03.273193Z"
    }
   },
   "outputs": [
    {
     "data": {
      "text/html": [
       "<div>\n",
       "<style scoped>\n",
       "    .dataframe tbody tr th:only-of-type {\n",
       "        vertical-align: middle;\n",
       "    }\n",
       "\n",
       "    .dataframe tbody tr th {\n",
       "        vertical-align: top;\n",
       "    }\n",
       "\n",
       "    .dataframe thead th {\n",
       "        text-align: right;\n",
       "    }\n",
       "</style>\n",
       "<table border=\"1\" class=\"dataframe\">\n",
       "  <thead>\n",
       "    <tr style=\"text-align: right;\">\n",
       "      <th></th>\n",
       "      <th>142983</th>\n",
       "    </tr>\n",
       "  </thead>\n",
       "  <tbody>\n",
       "    <tr>\n",
       "      <th>id</th>\n",
       "      <td>fmn0zwuubn</td>\n",
       "    </tr>\n",
       "    <tr>\n",
       "      <th>date_account_created</th>\n",
       "      <td>2014-01-17 00:00:00</td>\n",
       "    </tr>\n",
       "    <tr>\n",
       "      <th>timestamp_first_active</th>\n",
       "      <td>2014-01-17 16:29:28</td>\n",
       "    </tr>\n",
       "    <tr>\n",
       "      <th>date_first_booking</th>\n",
       "      <td>2014-01-17 00:00:00</td>\n",
       "    </tr>\n",
       "    <tr>\n",
       "      <th>gender</th>\n",
       "      <td>FEMALE</td>\n",
       "    </tr>\n",
       "    <tr>\n",
       "      <th>age</th>\n",
       "      <td>52</td>\n",
       "    </tr>\n",
       "    <tr>\n",
       "      <th>signup_method</th>\n",
       "      <td>basic</td>\n",
       "    </tr>\n",
       "    <tr>\n",
       "      <th>signup_flow</th>\n",
       "      <td>0</td>\n",
       "    </tr>\n",
       "    <tr>\n",
       "      <th>language</th>\n",
       "      <td>en</td>\n",
       "    </tr>\n",
       "    <tr>\n",
       "      <th>affiliate_channel</th>\n",
       "      <td>direct</td>\n",
       "    </tr>\n",
       "    <tr>\n",
       "      <th>affiliate_provider</th>\n",
       "      <td>direct</td>\n",
       "    </tr>\n",
       "    <tr>\n",
       "      <th>first_affiliate_tracked</th>\n",
       "      <td>untracked</td>\n",
       "    </tr>\n",
       "    <tr>\n",
       "      <th>signup_app</th>\n",
       "      <td>Web</td>\n",
       "    </tr>\n",
       "    <tr>\n",
       "      <th>first_device_type</th>\n",
       "      <td>Mac Desktop</td>\n",
       "    </tr>\n",
       "    <tr>\n",
       "      <th>first_browser</th>\n",
       "      <td>Safari</td>\n",
       "    </tr>\n",
       "    <tr>\n",
       "      <th>country_destination</th>\n",
       "      <td>US</td>\n",
       "    </tr>\n",
       "  </tbody>\n",
       "</table>\n",
       "</div>"
      ],
      "text/plain": [
       "                                      142983\n",
       "id                                fmn0zwuubn\n",
       "date_account_created     2014-01-17 00:00:00\n",
       "timestamp_first_active   2014-01-17 16:29:28\n",
       "date_first_booking       2014-01-17 00:00:00\n",
       "gender                                FEMALE\n",
       "age                                       52\n",
       "signup_method                          basic\n",
       "signup_flow                                0\n",
       "language                                  en\n",
       "affiliate_channel                     direct\n",
       "affiliate_provider                    direct\n",
       "first_affiliate_tracked            untracked\n",
       "signup_app                               Web\n",
       "first_device_type                Mac Desktop\n",
       "first_browser                         Safari\n",
       "country_destination                       US"
      ]
     },
     "execution_count": 19,
     "metadata": {},
     "output_type": "execute_result"
    }
   ],
   "source": [
    "df1.sample().T"
   ]
  },
  {
   "cell_type": "code",
   "execution_count": 13,
   "id": "07805d2b",
   "metadata": {
    "ExecuteTime": {
     "end_time": "2021-08-17T16:07:42.650305Z",
     "start_time": "2021-08-17T16:07:41.492646Z"
    }
   },
   "outputs": [],
   "source": [
    "#date_account_created  \n",
    "df1['date_account_created'] = pd.to_datetime(df1['date_account_created'])\n",
    "\n",
    "#timestamp_first_active    \n",
    "df1['timestamp_first_active'] = pd.to_datetime(df1['timestamp_first_active'], format = ('%Y%m%d%H%M%S'))\n",
    "\n",
    "#date_first_booking  \n",
    "df1['date_first_booking'] = pd.to_datetime(df1['date_first_booking'])\n",
    "\n",
    "#age\n",
    "df1['age'] = df1['age'].astype(np.int64)\n"
   ]
  },
  {
   "cell_type": "markdown",
   "id": "c268e854",
   "metadata": {
    "ExecuteTime": {
     "end_time": "2021-08-17T16:07:42.665265Z",
     "start_time": "2021-08-17T16:07:42.655291Z"
    }
   },
   "source": [
    "## 1.6 Check Balanced Data"
   ]
  },
  {
   "cell_type": "code",
   "execution_count": 15,
   "id": "66f19594",
   "metadata": {
    "ExecuteTime": {
     "end_time": "2021-08-17T16:07:42.711144Z",
     "start_time": "2021-08-17T16:07:42.669254Z"
    }
   },
   "outputs": [
    {
     "data": {
      "text/plain": [
       "US       0.708864\n",
       "other    0.110854\n",
       "FR       0.054085\n",
       "IT       0.029763\n",
       "GB       0.025935\n",
       "ES       0.024864\n",
       "CA       0.015696\n",
       "DE       0.012454\n",
       "NL       0.008801\n",
       "AU       0.006366\n",
       "PT       0.002318\n",
       "Name: country_destination, dtype: float64"
      ]
     },
     "execution_count": 15,
     "metadata": {},
     "output_type": "execute_result"
    }
   ],
   "source": [
    "df1['country_destination'].value_counts(normalize=True)"
   ]
  },
  {
   "cell_type": "markdown",
   "id": "b069a514",
   "metadata": {},
   "source": [
    "#  2.0 FILTRAGEM DE VARIÁVEIS\n"
   ]
  },
  {
   "cell_type": "code",
   "execution_count": 16,
   "id": "b5d86606",
   "metadata": {
    "ExecuteTime": {
     "end_time": "2021-08-17T16:07:42.740065Z",
     "start_time": "2021-08-17T16:07:42.715131Z"
    }
   },
   "outputs": [],
   "source": [
    "df2=df1.copy()"
   ]
  },
  {
   "cell_type": "markdown",
   "id": "4bf284dc",
   "metadata": {
    "ExecuteTime": {
     "end_time": "2021-08-17T12:17:29.527014Z",
     "start_time": "2021-08-17T12:17:29.523063Z"
    }
   },
   "source": [
    "## 2.1 Filtering Row"
   ]
  },
  {
   "cell_type": "code",
   "execution_count": null,
   "id": "d6ffbb62",
   "metadata": {},
   "outputs": [],
   "source": []
  },
  {
   "cell_type": "markdown",
   "id": "dd8bae77",
   "metadata": {},
   "source": [
    "## 2.2 Columns Selection"
   ]
  },
  {
   "cell_type": "code",
   "execution_count": null,
   "id": "6fda014b",
   "metadata": {},
   "outputs": [],
   "source": []
  },
  {
   "cell_type": "code",
   "execution_count": null,
   "id": "065f88c0",
   "metadata": {},
   "outputs": [],
   "source": []
  },
  {
   "cell_type": "markdown",
   "id": "0ef29eb6",
   "metadata": {},
   "source": [
    "# 3.0 DATA PREPARATION"
   ]
  },
  {
   "cell_type": "code",
   "execution_count": 57,
   "id": "e628ad27",
   "metadata": {
    "ExecuteTime": {
     "end_time": "2021-08-17T19:03:17.461558Z",
     "start_time": "2021-08-17T19:03:17.440652Z"
    }
   },
   "outputs": [],
   "source": [
    "df3 = df2.copy()"
   ]
  },
  {
   "cell_type": "code",
   "execution_count": 58,
   "id": "8d74dca4",
   "metadata": {
    "ExecuteTime": {
     "end_time": "2021-08-17T19:03:17.646619Z",
     "start_time": "2021-08-17T19:03:17.463551Z"
    }
   },
   "outputs": [],
   "source": [
    "# dummy variable\n",
    "df3_dummy = pd.get_dummies( df3.drop( ['id', 'country_destination'], axis=1 ) )\n",
    "\n",
    "# join id and country destination\n",
    "df3 = pd.concat( [df3[['id', 'country_destination']], df3_dummy], axis=1 )"
   ]
  },
  {
   "cell_type": "markdown",
   "id": "690da28c",
   "metadata": {},
   "source": [
    "# 4.0 FEATURE SELECTION\n"
   ]
  },
  {
   "cell_type": "code",
   "execution_count": 59,
   "id": "02b0ab35",
   "metadata": {
    "ExecuteTime": {
     "end_time": "2021-08-17T19:03:17.678529Z",
     "start_time": "2021-08-17T19:03:17.648609Z"
    }
   },
   "outputs": [],
   "source": [
    "cols_drop = ['date_account_created', 'timestamp_first_active', 'date_first_booking'] # original dates\n",
    "df4 = df3.drop( cols_drop, axis=1 )"
   ]
  },
  {
   "cell_type": "code",
   "execution_count": 60,
   "id": "a537b781",
   "metadata": {
    "ExecuteTime": {
     "end_time": "2021-08-17T19:03:17.709926Z",
     "start_time": "2021-08-17T19:03:17.680271Z"
    }
   },
   "outputs": [
    {
     "data": {
      "text/html": [
       "<div>\n",
       "<style scoped>\n",
       "    .dataframe tbody tr th:only-of-type {\n",
       "        vertical-align: middle;\n",
       "    }\n",
       "\n",
       "    .dataframe tbody tr th {\n",
       "        vertical-align: top;\n",
       "    }\n",
       "\n",
       "    .dataframe thead th {\n",
       "        text-align: right;\n",
       "    }\n",
       "</style>\n",
       "<table border=\"1\" class=\"dataframe\">\n",
       "  <thead>\n",
       "    <tr style=\"text-align: right;\">\n",
       "      <th></th>\n",
       "      <th>114577</th>\n",
       "    </tr>\n",
       "  </thead>\n",
       "  <tbody>\n",
       "    <tr>\n",
       "      <th>id</th>\n",
       "      <td>dfsc3vdu9l</td>\n",
       "    </tr>\n",
       "    <tr>\n",
       "      <th>country_destination</th>\n",
       "      <td>US</td>\n",
       "    </tr>\n",
       "    <tr>\n",
       "      <th>age</th>\n",
       "      <td>68</td>\n",
       "    </tr>\n",
       "    <tr>\n",
       "      <th>signup_flow</th>\n",
       "      <td>0</td>\n",
       "    </tr>\n",
       "    <tr>\n",
       "      <th>gender_-unknown-</th>\n",
       "      <td>0</td>\n",
       "    </tr>\n",
       "    <tr>\n",
       "      <th>gender_FEMALE</th>\n",
       "      <td>0</td>\n",
       "    </tr>\n",
       "    <tr>\n",
       "      <th>gender_MALE</th>\n",
       "      <td>1</td>\n",
       "    </tr>\n",
       "    <tr>\n",
       "      <th>gender_OTHER</th>\n",
       "      <td>0</td>\n",
       "    </tr>\n",
       "    <tr>\n",
       "      <th>signup_method_basic</th>\n",
       "      <td>1</td>\n",
       "    </tr>\n",
       "    <tr>\n",
       "      <th>signup_method_facebook</th>\n",
       "      <td>0</td>\n",
       "    </tr>\n",
       "    <tr>\n",
       "      <th>signup_method_google</th>\n",
       "      <td>0</td>\n",
       "    </tr>\n",
       "    <tr>\n",
       "      <th>language_ca</th>\n",
       "      <td>0</td>\n",
       "    </tr>\n",
       "    <tr>\n",
       "      <th>language_cs</th>\n",
       "      <td>0</td>\n",
       "    </tr>\n",
       "    <tr>\n",
       "      <th>language_da</th>\n",
       "      <td>0</td>\n",
       "    </tr>\n",
       "    <tr>\n",
       "      <th>language_de</th>\n",
       "      <td>0</td>\n",
       "    </tr>\n",
       "    <tr>\n",
       "      <th>language_el</th>\n",
       "      <td>0</td>\n",
       "    </tr>\n",
       "    <tr>\n",
       "      <th>language_en</th>\n",
       "      <td>1</td>\n",
       "    </tr>\n",
       "    <tr>\n",
       "      <th>language_es</th>\n",
       "      <td>0</td>\n",
       "    </tr>\n",
       "    <tr>\n",
       "      <th>language_fi</th>\n",
       "      <td>0</td>\n",
       "    </tr>\n",
       "    <tr>\n",
       "      <th>language_fr</th>\n",
       "      <td>0</td>\n",
       "    </tr>\n",
       "    <tr>\n",
       "      <th>language_hu</th>\n",
       "      <td>0</td>\n",
       "    </tr>\n",
       "    <tr>\n",
       "      <th>language_is</th>\n",
       "      <td>0</td>\n",
       "    </tr>\n",
       "    <tr>\n",
       "      <th>language_it</th>\n",
       "      <td>0</td>\n",
       "    </tr>\n",
       "    <tr>\n",
       "      <th>language_ja</th>\n",
       "      <td>0</td>\n",
       "    </tr>\n",
       "    <tr>\n",
       "      <th>language_ko</th>\n",
       "      <td>0</td>\n",
       "    </tr>\n",
       "    <tr>\n",
       "      <th>language_nl</th>\n",
       "      <td>0</td>\n",
       "    </tr>\n",
       "    <tr>\n",
       "      <th>language_no</th>\n",
       "      <td>0</td>\n",
       "    </tr>\n",
       "    <tr>\n",
       "      <th>language_pl</th>\n",
       "      <td>0</td>\n",
       "    </tr>\n",
       "    <tr>\n",
       "      <th>language_pt</th>\n",
       "      <td>0</td>\n",
       "    </tr>\n",
       "    <tr>\n",
       "      <th>language_ru</th>\n",
       "      <td>0</td>\n",
       "    </tr>\n",
       "    <tr>\n",
       "      <th>language_sv</th>\n",
       "      <td>0</td>\n",
       "    </tr>\n",
       "    <tr>\n",
       "      <th>language_th</th>\n",
       "      <td>0</td>\n",
       "    </tr>\n",
       "    <tr>\n",
       "      <th>language_tr</th>\n",
       "      <td>0</td>\n",
       "    </tr>\n",
       "    <tr>\n",
       "      <th>language_zh</th>\n",
       "      <td>0</td>\n",
       "    </tr>\n",
       "    <tr>\n",
       "      <th>affiliate_channel_api</th>\n",
       "      <td>0</td>\n",
       "    </tr>\n",
       "    <tr>\n",
       "      <th>affiliate_channel_content</th>\n",
       "      <td>0</td>\n",
       "    </tr>\n",
       "    <tr>\n",
       "      <th>affiliate_channel_direct</th>\n",
       "      <td>0</td>\n",
       "    </tr>\n",
       "    <tr>\n",
       "      <th>affiliate_channel_other</th>\n",
       "      <td>0</td>\n",
       "    </tr>\n",
       "    <tr>\n",
       "      <th>affiliate_channel_remarketing</th>\n",
       "      <td>0</td>\n",
       "    </tr>\n",
       "    <tr>\n",
       "      <th>affiliate_channel_sem-brand</th>\n",
       "      <td>1</td>\n",
       "    </tr>\n",
       "    <tr>\n",
       "      <th>affiliate_channel_sem-non-brand</th>\n",
       "      <td>0</td>\n",
       "    </tr>\n",
       "    <tr>\n",
       "      <th>affiliate_channel_seo</th>\n",
       "      <td>0</td>\n",
       "    </tr>\n",
       "    <tr>\n",
       "      <th>affiliate_provider_baidu</th>\n",
       "      <td>0</td>\n",
       "    </tr>\n",
       "    <tr>\n",
       "      <th>affiliate_provider_bing</th>\n",
       "      <td>0</td>\n",
       "    </tr>\n",
       "    <tr>\n",
       "      <th>affiliate_provider_craigslist</th>\n",
       "      <td>0</td>\n",
       "    </tr>\n",
       "    <tr>\n",
       "      <th>affiliate_provider_direct</th>\n",
       "      <td>0</td>\n",
       "    </tr>\n",
       "    <tr>\n",
       "      <th>affiliate_provider_email-marketing</th>\n",
       "      <td>0</td>\n",
       "    </tr>\n",
       "    <tr>\n",
       "      <th>affiliate_provider_facebook</th>\n",
       "      <td>0</td>\n",
       "    </tr>\n",
       "    <tr>\n",
       "      <th>affiliate_provider_facebook-open-graph</th>\n",
       "      <td>0</td>\n",
       "    </tr>\n",
       "    <tr>\n",
       "      <th>affiliate_provider_google</th>\n",
       "      <td>1</td>\n",
       "    </tr>\n",
       "    <tr>\n",
       "      <th>affiliate_provider_gsp</th>\n",
       "      <td>0</td>\n",
       "    </tr>\n",
       "    <tr>\n",
       "      <th>affiliate_provider_meetup</th>\n",
       "      <td>0</td>\n",
       "    </tr>\n",
       "    <tr>\n",
       "      <th>affiliate_provider_naver</th>\n",
       "      <td>0</td>\n",
       "    </tr>\n",
       "    <tr>\n",
       "      <th>affiliate_provider_other</th>\n",
       "      <td>0</td>\n",
       "    </tr>\n",
       "    <tr>\n",
       "      <th>affiliate_provider_padmapper</th>\n",
       "      <td>0</td>\n",
       "    </tr>\n",
       "    <tr>\n",
       "      <th>affiliate_provider_vast</th>\n",
       "      <td>0</td>\n",
       "    </tr>\n",
       "    <tr>\n",
       "      <th>affiliate_provider_yahoo</th>\n",
       "      <td>0</td>\n",
       "    </tr>\n",
       "    <tr>\n",
       "      <th>affiliate_provider_yandex</th>\n",
       "      <td>0</td>\n",
       "    </tr>\n",
       "    <tr>\n",
       "      <th>first_affiliate_tracked_linked</th>\n",
       "      <td>0</td>\n",
       "    </tr>\n",
       "    <tr>\n",
       "      <th>first_affiliate_tracked_local ops</th>\n",
       "      <td>0</td>\n",
       "    </tr>\n",
       "    <tr>\n",
       "      <th>first_affiliate_tracked_marketing</th>\n",
       "      <td>0</td>\n",
       "    </tr>\n",
       "    <tr>\n",
       "      <th>first_affiliate_tracked_omg</th>\n",
       "      <td>1</td>\n",
       "    </tr>\n",
       "    <tr>\n",
       "      <th>first_affiliate_tracked_product</th>\n",
       "      <td>0</td>\n",
       "    </tr>\n",
       "    <tr>\n",
       "      <th>first_affiliate_tracked_tracked-other</th>\n",
       "      <td>0</td>\n",
       "    </tr>\n",
       "    <tr>\n",
       "      <th>first_affiliate_tracked_untracked</th>\n",
       "      <td>0</td>\n",
       "    </tr>\n",
       "    <tr>\n",
       "      <th>signup_app_Android</th>\n",
       "      <td>0</td>\n",
       "    </tr>\n",
       "    <tr>\n",
       "      <th>signup_app_Moweb</th>\n",
       "      <td>0</td>\n",
       "    </tr>\n",
       "    <tr>\n",
       "      <th>signup_app_Web</th>\n",
       "      <td>1</td>\n",
       "    </tr>\n",
       "    <tr>\n",
       "      <th>signup_app_iOS</th>\n",
       "      <td>0</td>\n",
       "    </tr>\n",
       "    <tr>\n",
       "      <th>first_device_type_Android Phone</th>\n",
       "      <td>0</td>\n",
       "    </tr>\n",
       "    <tr>\n",
       "      <th>first_device_type_Android Tablet</th>\n",
       "      <td>0</td>\n",
       "    </tr>\n",
       "    <tr>\n",
       "      <th>first_device_type_Desktop (Other)</th>\n",
       "      <td>0</td>\n",
       "    </tr>\n",
       "    <tr>\n",
       "      <th>first_device_type_Mac Desktop</th>\n",
       "      <td>0</td>\n",
       "    </tr>\n",
       "    <tr>\n",
       "      <th>first_device_type_Other/Unknown</th>\n",
       "      <td>0</td>\n",
       "    </tr>\n",
       "    <tr>\n",
       "      <th>first_device_type_SmartPhone (Other)</th>\n",
       "      <td>0</td>\n",
       "    </tr>\n",
       "    <tr>\n",
       "      <th>first_device_type_Windows Desktop</th>\n",
       "      <td>1</td>\n",
       "    </tr>\n",
       "    <tr>\n",
       "      <th>first_device_type_iPad</th>\n",
       "      <td>0</td>\n",
       "    </tr>\n",
       "    <tr>\n",
       "      <th>first_device_type_iPhone</th>\n",
       "      <td>0</td>\n",
       "    </tr>\n",
       "    <tr>\n",
       "      <th>first_browser_-unknown-</th>\n",
       "      <td>0</td>\n",
       "    </tr>\n",
       "    <tr>\n",
       "      <th>first_browser_AOL Explorer</th>\n",
       "      <td>0</td>\n",
       "    </tr>\n",
       "    <tr>\n",
       "      <th>first_browser_Android Browser</th>\n",
       "      <td>0</td>\n",
       "    </tr>\n",
       "    <tr>\n",
       "      <th>first_browser_Apple Mail</th>\n",
       "      <td>0</td>\n",
       "    </tr>\n",
       "    <tr>\n",
       "      <th>first_browser_Avant Browser</th>\n",
       "      <td>0</td>\n",
       "    </tr>\n",
       "    <tr>\n",
       "      <th>first_browser_BlackBerry Browser</th>\n",
       "      <td>0</td>\n",
       "    </tr>\n",
       "    <tr>\n",
       "      <th>first_browser_Camino</th>\n",
       "      <td>0</td>\n",
       "    </tr>\n",
       "    <tr>\n",
       "      <th>first_browser_Chrome</th>\n",
       "      <td>0</td>\n",
       "    </tr>\n",
       "    <tr>\n",
       "      <th>first_browser_Chrome Mobile</th>\n",
       "      <td>0</td>\n",
       "    </tr>\n",
       "    <tr>\n",
       "      <th>first_browser_Chromium</th>\n",
       "      <td>0</td>\n",
       "    </tr>\n",
       "    <tr>\n",
       "      <th>first_browser_CoolNovo</th>\n",
       "      <td>0</td>\n",
       "    </tr>\n",
       "    <tr>\n",
       "      <th>first_browser_Firefox</th>\n",
       "      <td>0</td>\n",
       "    </tr>\n",
       "    <tr>\n",
       "      <th>first_browser_IE</th>\n",
       "      <td>1</td>\n",
       "    </tr>\n",
       "    <tr>\n",
       "      <th>first_browser_IE Mobile</th>\n",
       "      <td>0</td>\n",
       "    </tr>\n",
       "    <tr>\n",
       "      <th>first_browser_IceWeasel</th>\n",
       "      <td>0</td>\n",
       "    </tr>\n",
       "    <tr>\n",
       "      <th>first_browser_Iron</th>\n",
       "      <td>0</td>\n",
       "    </tr>\n",
       "    <tr>\n",
       "      <th>first_browser_Kindle Browser</th>\n",
       "      <td>0</td>\n",
       "    </tr>\n",
       "    <tr>\n",
       "      <th>first_browser_Maxthon</th>\n",
       "      <td>0</td>\n",
       "    </tr>\n",
       "    <tr>\n",
       "      <th>first_browser_Mobile Firefox</th>\n",
       "      <td>0</td>\n",
       "    </tr>\n",
       "    <tr>\n",
       "      <th>first_browser_Mobile Safari</th>\n",
       "      <td>0</td>\n",
       "    </tr>\n",
       "    <tr>\n",
       "      <th>first_browser_Mozilla</th>\n",
       "      <td>0</td>\n",
       "    </tr>\n",
       "    <tr>\n",
       "      <th>first_browser_NetNewsWire</th>\n",
       "      <td>0</td>\n",
       "    </tr>\n",
       "    <tr>\n",
       "      <th>first_browser_Opera</th>\n",
       "      <td>0</td>\n",
       "    </tr>\n",
       "    <tr>\n",
       "      <th>first_browser_Opera Mini</th>\n",
       "      <td>0</td>\n",
       "    </tr>\n",
       "    <tr>\n",
       "      <th>first_browser_Pale Moon</th>\n",
       "      <td>0</td>\n",
       "    </tr>\n",
       "    <tr>\n",
       "      <th>first_browser_RockMelt</th>\n",
       "      <td>0</td>\n",
       "    </tr>\n",
       "    <tr>\n",
       "      <th>first_browser_Safari</th>\n",
       "      <td>0</td>\n",
       "    </tr>\n",
       "    <tr>\n",
       "      <th>first_browser_SeaMonkey</th>\n",
       "      <td>0</td>\n",
       "    </tr>\n",
       "    <tr>\n",
       "      <th>first_browser_Silk</th>\n",
       "      <td>0</td>\n",
       "    </tr>\n",
       "    <tr>\n",
       "      <th>first_browser_SiteKiosk</th>\n",
       "      <td>0</td>\n",
       "    </tr>\n",
       "    <tr>\n",
       "      <th>first_browser_SlimBrowser</th>\n",
       "      <td>0</td>\n",
       "    </tr>\n",
       "    <tr>\n",
       "      <th>first_browser_Sogou Explorer</th>\n",
       "      <td>0</td>\n",
       "    </tr>\n",
       "    <tr>\n",
       "      <th>first_browser_Stainless</th>\n",
       "      <td>0</td>\n",
       "    </tr>\n",
       "    <tr>\n",
       "      <th>first_browser_TenFourFox</th>\n",
       "      <td>0</td>\n",
       "    </tr>\n",
       "    <tr>\n",
       "      <th>first_browser_TheWorld Browser</th>\n",
       "      <td>0</td>\n",
       "    </tr>\n",
       "    <tr>\n",
       "      <th>first_browser_Yandex.Browser</th>\n",
       "      <td>0</td>\n",
       "    </tr>\n",
       "  </tbody>\n",
       "</table>\n",
       "</div>"
      ],
      "text/plain": [
       "                                            114577\n",
       "id                                      dfsc3vdu9l\n",
       "country_destination                             US\n",
       "age                                             68\n",
       "signup_flow                                      0\n",
       "gender_-unknown-                                 0\n",
       "gender_FEMALE                                    0\n",
       "gender_MALE                                      1\n",
       "gender_OTHER                                     0\n",
       "signup_method_basic                              1\n",
       "signup_method_facebook                           0\n",
       "signup_method_google                             0\n",
       "language_ca                                      0\n",
       "language_cs                                      0\n",
       "language_da                                      0\n",
       "language_de                                      0\n",
       "language_el                                      0\n",
       "language_en                                      1\n",
       "language_es                                      0\n",
       "language_fi                                      0\n",
       "language_fr                                      0\n",
       "language_hu                                      0\n",
       "language_is                                      0\n",
       "language_it                                      0\n",
       "language_ja                                      0\n",
       "language_ko                                      0\n",
       "language_nl                                      0\n",
       "language_no                                      0\n",
       "language_pl                                      0\n",
       "language_pt                                      0\n",
       "language_ru                                      0\n",
       "language_sv                                      0\n",
       "language_th                                      0\n",
       "language_tr                                      0\n",
       "language_zh                                      0\n",
       "affiliate_channel_api                            0\n",
       "affiliate_channel_content                        0\n",
       "affiliate_channel_direct                         0\n",
       "affiliate_channel_other                          0\n",
       "affiliate_channel_remarketing                    0\n",
       "affiliate_channel_sem-brand                      1\n",
       "affiliate_channel_sem-non-brand                  0\n",
       "affiliate_channel_seo                            0\n",
       "affiliate_provider_baidu                         0\n",
       "affiliate_provider_bing                          0\n",
       "affiliate_provider_craigslist                    0\n",
       "affiliate_provider_direct                        0\n",
       "affiliate_provider_email-marketing               0\n",
       "affiliate_provider_facebook                      0\n",
       "affiliate_provider_facebook-open-graph           0\n",
       "affiliate_provider_google                        1\n",
       "affiliate_provider_gsp                           0\n",
       "affiliate_provider_meetup                        0\n",
       "affiliate_provider_naver                         0\n",
       "affiliate_provider_other                         0\n",
       "affiliate_provider_padmapper                     0\n",
       "affiliate_provider_vast                          0\n",
       "affiliate_provider_yahoo                         0\n",
       "affiliate_provider_yandex                        0\n",
       "first_affiliate_tracked_linked                   0\n",
       "first_affiliate_tracked_local ops                0\n",
       "first_affiliate_tracked_marketing                0\n",
       "first_affiliate_tracked_omg                      1\n",
       "first_affiliate_tracked_product                  0\n",
       "first_affiliate_tracked_tracked-other            0\n",
       "first_affiliate_tracked_untracked                0\n",
       "signup_app_Android                               0\n",
       "signup_app_Moweb                                 0\n",
       "signup_app_Web                                   1\n",
       "signup_app_iOS                                   0\n",
       "first_device_type_Android Phone                  0\n",
       "first_device_type_Android Tablet                 0\n",
       "first_device_type_Desktop (Other)                0\n",
       "first_device_type_Mac Desktop                    0\n",
       "first_device_type_Other/Unknown                  0\n",
       "first_device_type_SmartPhone (Other)             0\n",
       "first_device_type_Windows Desktop                1\n",
       "first_device_type_iPad                           0\n",
       "first_device_type_iPhone                         0\n",
       "first_browser_-unknown-                          0\n",
       "first_browser_AOL Explorer                       0\n",
       "first_browser_Android Browser                    0\n",
       "first_browser_Apple Mail                         0\n",
       "first_browser_Avant Browser                      0\n",
       "first_browser_BlackBerry Browser                 0\n",
       "first_browser_Camino                             0\n",
       "first_browser_Chrome                             0\n",
       "first_browser_Chrome Mobile                      0\n",
       "first_browser_Chromium                           0\n",
       "first_browser_CoolNovo                           0\n",
       "first_browser_Firefox                            0\n",
       "first_browser_IE                                 1\n",
       "first_browser_IE Mobile                          0\n",
       "first_browser_IceWeasel                          0\n",
       "first_browser_Iron                               0\n",
       "first_browser_Kindle Browser                     0\n",
       "first_browser_Maxthon                            0\n",
       "first_browser_Mobile Firefox                     0\n",
       "first_browser_Mobile Safari                      0\n",
       "first_browser_Mozilla                            0\n",
       "first_browser_NetNewsWire                        0\n",
       "first_browser_Opera                              0\n",
       "first_browser_Opera Mini                         0\n",
       "first_browser_Pale Moon                          0\n",
       "first_browser_RockMelt                           0\n",
       "first_browser_Safari                             0\n",
       "first_browser_SeaMonkey                          0\n",
       "first_browser_Silk                               0\n",
       "first_browser_SiteKiosk                          0\n",
       "first_browser_SlimBrowser                        0\n",
       "first_browser_Sogou Explorer                     0\n",
       "first_browser_Stainless                          0\n",
       "first_browser_TenFourFox                         0\n",
       "first_browser_TheWorld Browser                   0\n",
       "first_browser_Yandex.Browser                     0"
      ]
     },
     "execution_count": 60,
     "metadata": {},
     "output_type": "execute_result"
    }
   ],
   "source": [
    "df4.sample().T"
   ]
  },
  {
   "cell_type": "markdown",
   "id": "8cb517cd",
   "metadata": {
    "ExecuteTime": {
     "end_time": "2021-08-17T16:29:49.834940Z",
     "start_time": "2021-08-17T16:29:49.814896Z"
    }
   },
   "source": [
    "# 5.0 Machine Learning Model - Neural Network MLP\n",
    "\n"
   ]
  },
  {
   "cell_type": "code",
   "execution_count": 61,
   "id": "d0056dce",
   "metadata": {
    "ExecuteTime": {
     "end_time": "2021-08-17T19:03:17.725884Z",
     "start_time": "2021-08-17T19:03:17.711922Z"
    }
   },
   "outputs": [],
   "source": [
    "df5 = df4.copy()\n"
   ]
  },
  {
   "cell_type": "code",
   "execution_count": 62,
   "id": "dac869fc",
   "metadata": {
    "ExecuteTime": {
     "end_time": "2021-08-17T19:03:17.834634Z",
     "start_time": "2021-08-17T19:03:17.727879Z"
    }
   },
   "outputs": [],
   "source": [
    "# split dataset into training  and test data\n",
    "X = df4.drop('country_destination', axis=1)\n",
    "y = df4['country_destination'].copy()\n",
    "\n",
    "\n",
    "X_train, X_validation, y_train, y_validation = train_test_split( X, y, test_size=0.20, random_state=32 )\n",
    "\n",
    "df5 = pd.concat( [X_train, y_train], axis=1 )"
   ]
  },
  {
   "cell_type": "code",
   "execution_count": 63,
   "id": "09cf8f1c",
   "metadata": {
    "ExecuteTime": {
     "end_time": "2021-08-17T19:03:17.864689Z",
     "start_time": "2021-08-17T19:03:17.837634Z"
    }
   },
   "outputs": [],
   "source": [
    "x_train = X_train.drop( 'id', axis=1 )\n",
    "x_validation = X_validation.drop( 'id', axis=1 )"
   ]
  },
  {
   "cell_type": "code",
   "execution_count": 64,
   "id": "e034c9d3",
   "metadata": {
    "ExecuteTime": {
     "end_time": "2021-08-17T19:03:17.880652Z",
     "start_time": "2021-08-17T19:03:17.868685Z"
    }
   },
   "outputs": [
    {
     "data": {
      "text/plain": [
       "112"
      ]
     },
     "execution_count": 64,
     "metadata": {},
     "output_type": "execute_result"
    }
   ],
   "source": [
    "x_train.shape[1]"
   ]
  },
  {
   "cell_type": "code",
   "execution_count": 65,
   "id": "4da315c4",
   "metadata": {
    "ExecuteTime": {
     "end_time": "2021-08-17T19:03:17.926530Z",
     "start_time": "2021-08-17T19:03:17.886637Z"
    }
   },
   "outputs": [],
   "source": [
    "ohe = pp.OneHotEncoder()\n",
    "y_train_nn = ohe.fit_transform( y_train.values.reshape( -1, 1 ) ).toarray()"
   ]
  },
  {
   "cell_type": "code",
   "execution_count": 66,
   "id": "e5037b98",
   "metadata": {
    "ExecuteTime": {
     "end_time": "2021-08-17T19:07:04.316661Z",
     "start_time": "2021-08-17T19:03:17.929522Z"
    },
    "scrolled": true
   },
   "outputs": [
    {
     "name": "stdout",
     "output_type": "stream",
     "text": [
      "Epoch 1/100\n",
      "1705/1705 [==============================] - 3s 1ms/step - loss: 1.2792 - accuracy: 0.7047: 0s - loss: 1.2900 - accura\n",
      "Epoch 2/100\n",
      "1705/1705 [==============================] - 2s 1ms/step - loss: 1.2222 - accuracy: 0.7084: 0s - loss: 1\n",
      "Epoch 3/100\n",
      "1705/1705 [==============================] - 2s 1ms/step - loss: 1.2072 - accuracy: 0.7085\n",
      "Epoch 4/100\n",
      "1705/1705 [==============================] - 2s 1ms/step - loss: 1.1867 - accuracy: 0.7085\n",
      "Epoch 5/100\n",
      "1705/1705 [==============================] - 2s 1ms/step - loss: 1.1720 - accuracy: 0.7085\n",
      "Epoch 6/100\n",
      "1705/1705 [==============================] - 2s 1ms/step - loss: 1.1590 - accuracy: 0.7088\n",
      "Epoch 7/100\n",
      "1705/1705 [==============================] - 2s 1ms/step - loss: 1.1528 - accuracy: 0.7088\n",
      "Epoch 8/100\n",
      "1705/1705 [==============================] - 3s 2ms/step - loss: 1.1471 - accuracy: 0.7088\n",
      "Epoch 9/100\n",
      "1705/1705 [==============================] - 2s 1ms/step - loss: 1.1398 - accuracy: 0.7088: 0s - loss: 1.1426 - ac\n",
      "Epoch 10/100\n",
      "1705/1705 [==============================] - 2s 1ms/step - loss: 1.1357 - accuracy: 0.7090\n",
      "Epoch 11/100\n",
      "1705/1705 [==============================] - 2s 1ms/step - loss: 1.1335 - accuracy: 0.7092\n",
      "Epoch 12/100\n",
      "1705/1705 [==============================] - 2s 1ms/step - loss: 1.1314 - accuracy: 0.7096\n",
      "Epoch 13/100\n",
      "1705/1705 [==============================] - 2s 1ms/step - loss: 1.1297 - accuracy: 0.7096\n",
      "Epoch 14/100\n",
      "1705/1705 [==============================] - 2s 1ms/step - loss: 1.1294 - accuracy: 0.7096\n",
      "Epoch 15/100\n",
      "1705/1705 [==============================] - 2s 1ms/step - loss: 1.1289 - accuracy: 0.7095\n",
      "Epoch 16/100\n",
      "1705/1705 [==============================] - 3s 2ms/step - loss: 1.1271 - accuracy: 0.7097\n",
      "Epoch 17/100\n",
      "1705/1705 [==============================] - 2s 1ms/step - loss: 1.1262 - accuracy: 0.7097\n",
      "Epoch 18/100\n",
      "1705/1705 [==============================] - 2s 1ms/step - loss: 1.1258 - accuracy: 0.7097\n",
      "Epoch 19/100\n",
      "1705/1705 [==============================] - 2s 1ms/step - loss: 1.1254 - accuracy: 0.7098: 0s - loss: 1.1239 - accuracy: 0.71 - ETA: 0s - loss: 1.1233 - accu\n",
      "Epoch 20/100\n",
      "1705/1705 [==============================] - 2s 1ms/step - loss: 1.1239 - accuracy: 0.7097\n",
      "Epoch 21/100\n",
      "1705/1705 [==============================] - 2s 1ms/step - loss: 1.1236 - accuracy: 0.7097\n",
      "Epoch 22/100\n",
      "1705/1705 [==============================] - 2s 1ms/step - loss: 1.1227 - accuracy: 0.7098\n",
      "Epoch 23/100\n",
      "1705/1705 [==============================] - 3s 2ms/step - loss: 1.1223 - accuracy: 0.7098\n",
      "Epoch 24/100\n",
      "1705/1705 [==============================] - 2s 1ms/step - loss: 1.1210 - accuracy: 0.7098\n",
      "Epoch 25/100\n",
      "1705/1705 [==============================] - 2s 1ms/step - loss: 1.1206 - accuracy: 0.7099\n",
      "Epoch 26/100\n",
      "1705/1705 [==============================] - 2s 1ms/step - loss: 1.1203 - accuracy: 0.7100\n",
      "Epoch 27/100\n",
      "1705/1705 [==============================] - 2s 1ms/step - loss: 1.1196 - accuracy: 0.7099\n",
      "Epoch 28/100\n",
      "1705/1705 [==============================] - 2s 1ms/step - loss: 1.1187 - accuracy: 0.7100\n",
      "Epoch 29/100\n",
      "1705/1705 [==============================] - 2s 1ms/step - loss: 1.1177 - accuracy: 0.7100: 0s - loss:\n",
      "Epoch 30/100\n",
      "1705/1705 [==============================] - 2s 1ms/step - loss: 1.1168 - accuracy: 0.7101\n",
      "Epoch 31/100\n",
      "1705/1705 [==============================] - 3s 2ms/step - loss: 1.1166 - accuracy: 0.7102\n",
      "Epoch 32/100\n",
      "1705/1705 [==============================] - 2s 1ms/step - loss: 1.1158 - accuracy: 0.7101: 0s\n",
      "Epoch 33/100\n",
      "1705/1705 [==============================] - 2s 1ms/step - loss: 1.1150 - accuracy: 0.7101: 0s - loss: 1.1146 - accura\n",
      "Epoch 34/100\n",
      "1705/1705 [==============================] - 2s 1ms/step - loss: 1.1154 - accuracy: 0.7102\n",
      "Epoch 35/100\n",
      "1705/1705 [==============================] - 3s 2ms/step - loss: 1.1146 - accuracy: 0.7103\n",
      "Epoch 36/100\n",
      "1705/1705 [==============================] - 3s 2ms/step - loss: 1.1133 - accuracy: 0.7102\n",
      "Epoch 37/100\n",
      "1705/1705 [==============================] - 2s 1ms/step - loss: 1.1129 - accuracy: 0.7103\n",
      "Epoch 38/100\n",
      "1705/1705 [==============================] - 2s 1ms/step - loss: 1.1128 - accuracy: 0.7103\n",
      "Epoch 39/100\n",
      "1705/1705 [==============================] - 2s 975us/step - loss: 1.1108 - accuracy: 0.7104\n",
      "Epoch 40/100\n",
      "1705/1705 [==============================] - 2s 1ms/step - loss: 1.1110 - accuracy: 0.7102\n",
      "Epoch 41/100\n",
      "1705/1705 [==============================] - 2s 1ms/step - loss: 1.1106 - accuracy: 0.7104\n",
      "Epoch 42/100\n",
      "1705/1705 [==============================] - 2s 1ms/step - loss: 1.1100 - accuracy: 0.7105\n",
      "Epoch 43/100\n",
      "1705/1705 [==============================] - 2s 1ms/step - loss: 1.1107 - accuracy: 0.7104\n",
      "Epoch 44/100\n",
      "1705/1705 [==============================] - 2s 1ms/step - loss: 1.1093 - accuracy: 0.7106\n",
      "Epoch 45/100\n",
      "1705/1705 [==============================] - 2s 1ms/step - loss: 1.1087 - accuracy: 0.7106\n",
      "Epoch 46/100\n",
      "1705/1705 [==============================] - 2s 1ms/step - loss: 1.1084 - accuracy: 0.7108\n",
      "Epoch 47/100\n",
      "1705/1705 [==============================] - 2s 1ms/step - loss: 1.1081 - accuracy: 0.7107\n",
      "Epoch 48/100\n",
      "1705/1705 [==============================] - 2s 1ms/step - loss: 1.1074 - accuracy: 0.7107\n",
      "Epoch 49/100\n",
      "1705/1705 [==============================] - 2s 1ms/step - loss: 1.1072 - accuracy: 0.7107\n",
      "Epoch 50/100\n",
      "1705/1705 [==============================] - 2s 1ms/step - loss: 1.1060 - accuracy: 0.7108\n",
      "Epoch 51/100\n",
      "1705/1705 [==============================] - 2s 1ms/step - loss: 1.1061 - accuracy: 0.7109\n",
      "Epoch 52/100\n",
      "1705/1705 [==============================] - 2s 957us/step - loss: 1.1065 - accuracy: 0.7106\n",
      "Epoch 53/100\n",
      "1705/1705 [==============================] - 2s 991us/step - loss: 1.1056 - accuracy: 0.7111\n",
      "Epoch 54/100\n",
      "1705/1705 [==============================] - 2s 1ms/step - loss: 1.1054 - accuracy: 0.7108\n",
      "Epoch 55/100\n",
      "1705/1705 [==============================] - 2s 1ms/step - loss: 1.1045 - accuracy: 0.7111\n",
      "Epoch 56/100\n",
      "1705/1705 [==============================] - 2s 989us/step - loss: 1.1045 - accuracy: 0.7111\n",
      "Epoch 57/100\n",
      "1705/1705 [==============================] - 2s 1ms/step - loss: 1.1050 - accuracy: 0.7112\n",
      "Epoch 58/100\n",
      "1705/1705 [==============================] - 2s 1ms/step - loss: 1.1035 - accuracy: 0.7112\n",
      "Epoch 59/100\n",
      "1705/1705 [==============================] - 2s 1ms/step - loss: 1.1039 - accuracy: 0.7111\n",
      "Epoch 60/100\n",
      "1705/1705 [==============================] - 2s 1ms/step - loss: 1.1039 - accuracy: 0.7109\n",
      "Epoch 61/100\n",
      "1705/1705 [==============================] - 2s 1ms/step - loss: 1.1034 - accuracy: 0.7111\n",
      "Epoch 62/100\n",
      "1705/1705 [==============================] - 2s 1ms/step - loss: 1.1028 - accuracy: 0.7114: 0s - loss: 1.1069 - accuracy\n",
      "Epoch 63/100\n",
      "1705/1705 [==============================] - 2s 1ms/step - loss: 1.1019 - accuracy: 0.7117\n",
      "Epoch 64/100\n",
      "1705/1705 [==============================] - 2s 1ms/step - loss: 1.1025 - accuracy: 0.7112\n",
      "Epoch 65/100\n",
      "1705/1705 [==============================] - 2s 1ms/step - loss: 1.1019 - accuracy: 0.7113: \n",
      "Epoch 66/100\n",
      "1705/1705 [==============================] - 2s 1ms/step - loss: 1.1018 - accuracy: 0.7114\n",
      "Epoch 67/100\n",
      "1705/1705 [==============================] - 2s 1ms/step - loss: 1.1013 - accuracy: 0.7115: \n",
      "Epoch 68/100\n",
      "1705/1705 [==============================] - 2s 1ms/step - loss: 1.1013 - accuracy: 0.7117\n",
      "Epoch 69/100\n",
      "1705/1705 [==============================] - 2s 1ms/step - loss: 1.1012 - accuracy: 0.7115\n",
      "Epoch 70/100\n",
      "1705/1705 [==============================] - 2s 1ms/step - loss: 1.1011 - accuracy: 0.7117\n",
      "Epoch 71/100\n",
      "1705/1705 [==============================] - 2s 1ms/step - loss: 1.1004 - accuracy: 0.7117: 0s - loss: 1.0985 - accuracy: \n",
      "Epoch 72/100\n",
      "1705/1705 [==============================] - 2s 1ms/step - loss: 1.1014 - accuracy: 0.7116\n",
      "Epoch 73/100\n",
      "1705/1705 [==============================] - 2s 998us/step - loss: 1.1001 - accuracy: 0.7114\n",
      "Epoch 74/100\n",
      "1705/1705 [==============================] - 2s 1ms/step - loss: 1.1000 - accuracy: 0.7117\n",
      "Epoch 75/100\n",
      "1705/1705 [==============================] - 2s 1ms/step - loss: 1.0991 - accuracy: 0.7118\n",
      "Epoch 76/100\n",
      "1705/1705 [==============================] - 2s 1ms/step - loss: 1.0995 - accuracy: 0.7120\n",
      "Epoch 77/100\n"
     ]
    },
    {
     "name": "stdout",
     "output_type": "stream",
     "text": [
      "1705/1705 [==============================] - 2s 967us/step - loss: 1.0993 - accuracy: 0.7120\n",
      "Epoch 78/100\n",
      "1705/1705 [==============================] - 2s 1ms/step - loss: 1.0992 - accuracy: 0.7120\n",
      "Epoch 79/100\n",
      "1705/1705 [==============================] - ETA: 0s - loss: 1.0977 - accuracy: 0.71 - 2s 1ms/step - loss: 1.0992 - accuracy: 0.7119\n",
      "Epoch 80/100\n",
      "1705/1705 [==============================] - 2s 977us/step - loss: 1.1001 - accuracy: 0.71160s -\n",
      "Epoch 81/100\n",
      "1705/1705 [==============================] - 2s 1ms/step - loss: 1.0990 - accuracy: 0.7122\n",
      "Epoch 82/100\n",
      "1705/1705 [==============================] - 2s 1ms/step - loss: 1.0995 - accuracy: 0.7119\n",
      "Epoch 83/100\n",
      "1705/1705 [==============================] - 2s 1ms/step - loss: 1.0984 - accuracy: 0.7120\n",
      "Epoch 84/100\n",
      "1705/1705 [==============================] - 2s 934us/step - loss: 1.0984 - accuracy: 0.7122\n",
      "Epoch 85/100\n",
      "1705/1705 [==============================] - 2s 941us/step - loss: 1.0975 - accuracy: 0.7120\n",
      "Epoch 86/100\n",
      "1705/1705 [==============================] - 2s 1ms/step - loss: 1.0981 - accuracy: 0.7122\n",
      "Epoch 87/100\n",
      "1705/1705 [==============================] - 3s 2ms/step - loss: 1.0978 - accuracy: 0.7120\n",
      "Epoch 88/100\n",
      "1705/1705 [==============================] - 3s 1ms/step - loss: 1.0974 - accuracy: 0.7119\n",
      "Epoch 89/100\n",
      "1705/1705 [==============================] - 3s 2ms/step - loss: 1.0974 - accuracy: 0.7121\n",
      "Epoch 90/100\n",
      "1705/1705 [==============================] - 2s 1ms/step - loss: 1.0972 - accuracy: 0.7121\n",
      "Epoch 91/100\n",
      "1705/1705 [==============================] - 2s 922us/step - loss: 1.0976 - accuracy: 0.7120\n",
      "Epoch 92/100\n",
      "1705/1705 [==============================] - 2s 1ms/step - loss: 1.0969 - accuracy: 0.7122\n",
      "Epoch 93/100\n",
      "1705/1705 [==============================] - 2s 896us/step - loss: 1.0966 - accuracy: 0.7125\n",
      "Epoch 94/100\n",
      "1705/1705 [==============================] - 2s 950us/step - loss: 1.0965 - accuracy: 0.7122\n",
      "Epoch 95/100\n",
      "1705/1705 [==============================] - ETA: 0s - loss: 1.0966 - accuracy: 0.71 - 2s 1ms/step - loss: 1.0963 - accuracy: 0.7126\n",
      "Epoch 96/100\n",
      "1705/1705 [==============================] - 2s 1ms/step - loss: 1.0962 - accuracy: 0.7127\n",
      "Epoch 97/100\n",
      "1705/1705 [==============================] - 2s 1ms/step - loss: 1.0968 - accuracy: 0.7124\n",
      "Epoch 98/100\n",
      "1705/1705 [==============================] - 1s 871us/step - loss: 1.0960 - accuracy: 0.7122\n",
      "Epoch 99/100\n",
      "1705/1705 [==============================] - 2s 929us/step - loss: 1.0962 - accuracy: 0.7121\n",
      "Epoch 100/100\n",
      "1705/1705 [==============================] - 1s 876us/step - loss: 1.0957 - accuracy: 0.7123\n"
     ]
    },
    {
     "data": {
      "text/plain": [
       "<keras.callbacks.History at 0x23146b045b0>"
      ]
     },
     "execution_count": 66,
     "metadata": {},
     "output_type": "execute_result"
    }
   ],
   "source": [
    "# model definition\n",
    "model = ml.Sequential()\n",
    "model.add( l.Dense( 128, input_dim=x_train.shape[1], activation='relu' ) )\n",
    "model.add( l.Dense( 11, activation='softmax') )\n",
    "\n",
    "# model compile\n",
    "model.compile( loss='categorical_crossentropy', optimizer='adam', metrics=['accuracy'] )\n",
    "\n",
    "# train model\n",
    "model.fit( x_train, y_train_nn, epochs=100 )"
   ]
  },
  {
   "cell_type": "markdown",
   "id": "32d58166",
   "metadata": {},
   "source": [
    "## 5.1 NN PERFORMANCE\n"
   ]
  },
  {
   "cell_type": "code",
   "execution_count": 68,
   "id": "fa6d33c2",
   "metadata": {
    "ExecuteTime": {
     "end_time": "2021-08-17T19:14:56.388661Z",
     "start_time": "2021-08-17T19:14:50.584149Z"
    }
   },
   "outputs": [],
   "source": [
    "# PREDICTION \n",
    "pred_nn = model.predict(x_validation)\n",
    "\n",
    "# INVERT PRED\n",
    "yhat_nn=ohe.inverse_transform(pred_nn)\n",
    "\n",
    "# PREDICTION PREPARE\n",
    "y_test_nn = y_validation.to_numpy()\n",
    "yhat_nn = yhat_nn.reshape (1, -1)[0]"
   ]
  },
  {
   "cell_type": "code",
   "execution_count": 73,
   "id": "d659c26a",
   "metadata": {
    "ExecuteTime": {
     "end_time": "2021-08-17T19:21:02.510846Z",
     "start_time": "2021-08-17T19:21:01.085704Z"
    }
   },
   "outputs": [
    {
     "name": "stdout",
     "output_type": "stream",
     "text": [
      "Accuracy: 0.7020902090209021\n"
     ]
    },
    {
     "data": {
      "text/plain": [
       "<AxesSubplot:title={'center':'Confusion Matrix'}, xlabel='Predicted label', ylabel='True label'>"
      ]
     },
     "execution_count": 73,
     "metadata": {},
     "output_type": "execute_result"
    },
    {
     "data": {
      "image/png": "[encoded data removed]",
      "text/plain": [
       "<Figure size 1800x864 with 2 Axes>"
      ]
     },
     "metadata": {},
     "output_type": "display_data"
    }
   ],
   "source": [
    "# accuracy \n",
    "acc_nn = m.accuracy_score(y_test_nn, yhat_nn)\n",
    "print ('Accuracy: {}'.format(acc_nn))\n",
    "\n",
    "# confusion matrix\n",
    "mt.plot_confusion_matrix( y_test_nn, yhat_nn, normalize = False)\n"
   ]
  },
  {
   "cell_type": "markdown",
   "id": "f2fc4ec6",
   "metadata": {},
   "source": [
    "# 4.0 ANALISE EXPLORATORIA DOS DADOS"
   ]
  },
  {
   "cell_type": "code",
   "execution_count": null,
   "id": "0ef990cd",
   "metadata": {},
   "outputs": [],
   "source": []
  },
  {
   "cell_type": "markdown",
   "id": "ac09331f",
   "metadata": {},
   "source": [
    "## 4.1. Analise Univariada\n"
   ]
  },
  {
   "cell_type": "markdown",
   "id": "aa03acbf",
   "metadata": {},
   "source": [
    "## 4.2 Analise Bivariada\n"
   ]
  },
  {
   "cell_type": "markdown",
   "id": "b1042963",
   "metadata": {},
   "source": [
    "## 4.3 Analise Multivariada"
   ]
  },
  {
   "cell_type": "markdown",
   "id": "5eecf62f",
   "metadata": {},
   "source": [
    "# 5.0 PREPARACAO DE DADOS\n"
   ]
  },
  {
   "cell_type": "markdown",
   "id": "d4814db1",
   "metadata": {},
   "source": [
    "## 5.1 Standardization"
   ]
  },
  {
   "cell_type": "markdown",
   "id": "4f8f1400",
   "metadata": {},
   "source": [
    "##  5.2 Rescaling\n"
   ]
  },
  {
   "cell_type": "markdown",
   "id": "1dab84ef",
   "metadata": {},
   "source": [
    "## 5.3 Transformation\n"
   ]
  },
  {
   "cell_type": "markdown",
   "id": "022fae60",
   "metadata": {},
   "source": [
    "### 5.3.1 Encoding"
   ]
  },
  {
   "cell_type": "markdown",
   "id": "7f87278c",
   "metadata": {},
   "source": [
    "## 5.4 Validation Prep"
   ]
  },
  {
   "cell_type": "markdown",
   "id": "3721270d",
   "metadata": {},
   "source": [
    "# 6.0  FEATURE SELECTION\n"
   ]
  },
  {
   "cell_type": "markdown",
   "id": "b2bf16bb",
   "metadata": {},
   "source": [
    "## 6.1 Boruta Feature Selector\n"
   ]
  },
  {
   "cell_type": "markdown",
   "id": "f985da1b",
   "metadata": {},
   "source": [
    "## 6.2 Feature Importance"
   ]
  },
  {
   "cell_type": "markdown",
   "id": "61176986",
   "metadata": {},
   "source": [
    "# 7.0 MACHINE LEARNING\n"
   ]
  },
  {
   "cell_type": "markdown",
   "id": "1cf1e412",
   "metadata": {},
   "source": [
    "## 7.9 Compare Model's Performance"
   ]
  },
  {
   "cell_type": "markdown",
   "id": "8911dcd9",
   "metadata": {},
   "source": [
    "### 7.9.1. Single Performance"
   ]
  },
  {
   "cell_type": "markdown",
   "id": "504cb17f",
   "metadata": {},
   "source": [
    "### 7.9.2. Real Performance - Cross Validation\n"
   ]
  },
  {
   "cell_type": "markdown",
   "id": "aca4f4bb",
   "metadata": {},
   "source": [
    "# 8.0. HYPERPARAMETER FINE TUNING\n"
   ]
  },
  {
   "cell_type": "markdown",
   "id": "bcf605f7",
   "metadata": {},
   "source": [
    "## 8.3 Final Model\n"
   ]
  },
  {
   "cell_type": "markdown",
   "id": "54b04cbb",
   "metadata": {},
   "source": [
    "# 9.0 Business Performance\n"
   ]
  },
  {
   "cell_type": "markdown",
   "id": "09fa0a66",
   "metadata": {},
   "source": [
    "# 10.0 Deploy to Production"
   ]
  },
  {
   "cell_type": "markdown",
   "id": "97180192",
   "metadata": {},
   "source": [
    "## 10.1 Class\n"
   ]
  },
  {
   "cell_type": "markdown",
   "id": "85986e8e",
   "metadata": {},
   "source": [
    "## 10.2 API Handler"
   ]
  },
  {
   "cell_type": "markdown",
   "id": "36d12753",
   "metadata": {},
   "source": [
    "## 10.3 API Tester"
   ]
  },
  {
   "cell_type": "markdown",
   "id": "02d967d4",
   "metadata": {},
   "source": [
    "# 2.0 FEATURE ENGINEERING"
   ]
  },
  {
   "cell_type": "code",
   "execution_count": null,
   "id": "6c58a3c6",
   "metadata": {},
   "outputs": [],
   "source": []
  },
  {
   "cell_type": "code",
   "execution_count": null,
   "id": "237a2706",
   "metadata": {},
   "outputs": [],
   "source": []
  },
  {
   "cell_type": "code",
   "execution_count": null,
   "id": "095332a7",
   "metadata": {},
   "outputs": [],
   "source": []
  },
  {
   "cell_type": "code",
   "execution_count": null,
   "id": "98d23788",
   "metadata": {},
   "outputs": [],
   "source": []
  }
 ],
 "metadata": {
  "kernelspec": {
   "display_name": "Python 3",
   "language": "python",
   "name": "python3"
  },
  "language_info": {
   "codemirror_mode": {
    "name": "ipython",
    "version": 3
   },
   "file_extension": ".py",
   "mimetype": "text/x-python",
   "name": "python",
   "nbconvert_exporter": "python",
   "pygments_lexer": "ipython3",
   "version": "3.8.11"
  },
  "toc": {
   "base_numbering": 1,
   "nav_menu": {},
   "number_sections": false,
   "sideBar": true,
   "skip_h1_title": false,
   "title_cell": "Table of Contents",
   "title_sidebar": "Contents",
   "toc_cell": false,
   "toc_position": {
    "height": "calc(100% - 180px)",
    "left": "10px",
    "top": "150px",
    "width": "241.319px"
   },
   "toc_section_display": true,
   "toc_window_display": true
  },
  "varInspector": {
   "cols": {
    "lenName": 16,
    "lenType": 16,
    "lenVar": 40
   },
   "kernels_config": {
    "python": {
     "delete_cmd_postfix": "",
     "delete_cmd_prefix": "del ",
     "library": "var_list.py",
     "varRefreshCmd": "print(var_dic_list())"
    },
    "r": {
     "delete_cmd_postfix": ") ",
     "delete_cmd_prefix": "rm(",
     "library": "var_list.r",
     "varRefreshCmd": "cat(var_dic_list()) "
    }
   },
   "types_to_exclude": [
    "module",
    "function",
    "builtin_function_or_method",
    "instance",
    "_Feature"
   ],
   "window_display": false
  }
 },
 "nbformat": 4,
 "nbformat_minor": 5
}
