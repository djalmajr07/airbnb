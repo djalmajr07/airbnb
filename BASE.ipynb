{
 "cells": [
  {
   "cell_type": "markdown",
   "id": "1a76a5fc",
   "metadata": {},
   "source": [
    "# 0.0 IMPORTS"
   ]
  },
  {
   "cell_type": "code",
   "execution_count": null,
   "id": "42473b9c",
   "metadata": {},
   "outputs": [],
   "source": [
    "import pandas as pd\n",
    "import numpy  as np\n",
    "import seaborn as sns\n",
    "\n",
    "from scipy                 import stats  as ss\n",
    "from matplotlib            import pyplot as plt\n",
    "from IPython.display       import Image\n",
    "from IPython.core.display  import HTML\n"
   ]
  },
  {
   "cell_type": "markdown",
   "id": "802a7b1f",
   "metadata": {},
   "source": [
    "## 0.1 Helper Functions\n"
   ]
  },
  {
   "cell_type": "code",
   "execution_count": null,
   "id": "b217126a",
   "metadata": {},
   "outputs": [],
   "source": [
    "def cramer_v( x, y ):\n",
    "    cm = pd.crosstab( x, y ).to_numpy()\n",
    "    n = cm.sum()\n",
    "    r, k = cm.shape\n",
    "    \n",
    "    chi2 = ss.chi2_contingency( cm )[0]\n",
    "    chi2corr = max( 0, chi2 - (k-1)*(r-1)/(n-1) )\n",
    "    \n",
    "    kcorr = k - (k-1)**2/(n-1)\n",
    "    rcorr = r - (r-1)**2/(n-1)\n",
    "    \n",
    "    return np.sqrt( (chi2corr/n) / ( min( kcorr-1, rcorr-1 ) ) )\n",
    "\n",
    "\n",
    "def jupyter_settings():\n",
    "    %matplotlib inline\n",
    "    %pylab inline\n",
    "    \n",
    "    plt.style.use( 'bmh' )\n",
    "    plt.rcParams['figure.figsize'] = [25, 12]\n",
    "    plt.rcParams['font.size'] = 24\n",
    "    \n",
    "    display( HTML( '<style>.container { width:100% !important; }</style>') )\n",
    "    pd.options.display.max_columns = None\n",
    "    pd.options.display.max_rows = None\n",
    "    pd.set_option( 'display.expand_frame_repr', False )\n",
    "    \n",
    "    sns.set()\n",
    "    \n",
    "jupyter_settings()"
   ]
  },
  {
   "cell_type": "markdown",
   "id": "f97a50f6",
   "metadata": {},
   "source": [
    "##  0.2 Load dataset"
   ]
  },
  {
   "cell_type": "code",
   "execution_count": null,
   "id": "14c6d46a",
   "metadata": {},
   "outputs": [],
   "source": [
    "df_raw = pd.read_csv('C:/Users/Djalma.junior/DS/')"
   ]
  },
  {
   "cell_type": "markdown",
   "id": "4f73ee97",
   "metadata": {},
   "source": [
    "#  1.0 DESCRICAO DOS DADOS\n"
   ]
  },
  {
   "cell_type": "code",
   "execution_count": null,
   "id": "1a91727f",
   "metadata": {},
   "outputs": [],
   "source": [
    "df1 = df_raw.copy()"
   ]
  },
  {
   "cell_type": "markdown",
   "id": "22952d58",
   "metadata": {},
   "source": [
    "## 1.1. Rename Columns"
   ]
  },
  {
   "cell_type": "markdown",
   "id": "566ecdea",
   "metadata": {},
   "source": [
    "## 1.2. Data Dimensions"
   ]
  },
  {
   "cell_type": "markdown",
   "id": "d83ce3c4",
   "metadata": {},
   "source": [
    "## 1.3. Data Types"
   ]
  },
  {
   "cell_type": "markdown",
   "id": "fcd2f9bd",
   "metadata": {},
   "source": [
    "## 1.4. Check NA"
   ]
  },
  {
   "cell_type": "markdown",
   "id": "57b72237",
   "metadata": {},
   "source": [
    "## 1.5. Descriptive Statistics"
   ]
  },
  {
   "cell_type": "markdown",
   "id": "8678512d",
   "metadata": {},
   "source": [
    "### 1.5.1. Numerical Atributes"
   ]
  },
  {
   "cell_type": "markdown",
   "id": "02d967d4",
   "metadata": {},
   "source": [
    "# 2.0 FEATURE ENGINEERING"
   ]
  },
  {
   "cell_type": "markdown",
   "id": "a2bff261",
   "metadata": {
    "ExecuteTime": {
     "end_time": "2021-08-17T10:45:33.984813Z",
     "start_time": "2021-08-17T10:45:33.964713Z"
    }
   },
   "source": [
    "## 2.1 Hypothesis Mental Map"
   ]
  },
  {
   "cell_type": "markdown",
   "id": "fcd7c94e",
   "metadata": {},
   "source": [
    "## 2.2. Feature Engineering\n"
   ]
  },
  {
   "cell_type": "markdown",
   "id": "b069a514",
   "metadata": {},
   "source": [
    "#  3.0 FILTRAGEM DE VARIÁVEIS\n"
   ]
  },
  {
   "cell_type": "markdown",
   "id": "f2fc4ec6",
   "metadata": {},
   "source": [
    "# 4.0 ANALISE EXPLORATORIA DOS DADOS"
   ]
  },
  {
   "cell_type": "markdown",
   "id": "ac09331f",
   "metadata": {},
   "source": [
    "## 4.1. Analise Univariada\n"
   ]
  },
  {
   "cell_type": "markdown",
   "id": "aa03acbf",
   "metadata": {},
   "source": [
    "## 4.2 Analise Bivariada\n"
   ]
  },
  {
   "cell_type": "markdown",
   "id": "b1042963",
   "metadata": {},
   "source": [
    "## 4.3 Analise Multivariada"
   ]
  },
  {
   "cell_type": "markdown",
   "id": "5eecf62f",
   "metadata": {},
   "source": [
    "# 5.0 PREPARACAO DE DADOS\n"
   ]
  },
  {
   "cell_type": "markdown",
   "id": "d4814db1",
   "metadata": {},
   "source": [
    "## 5.1 Standardization"
   ]
  },
  {
   "cell_type": "markdown",
   "id": "4f8f1400",
   "metadata": {},
   "source": [
    "##  5.2 Rescaling\n"
   ]
  },
  {
   "cell_type": "markdown",
   "id": "1dab84ef",
   "metadata": {},
   "source": [
    "## 5.3 Transformation\n"
   ]
  },
  {
   "cell_type": "markdown",
   "id": "022fae60",
   "metadata": {},
   "source": [
    "### 5.3.1 Encoding"
   ]
  },
  {
   "cell_type": "markdown",
   "id": "7f87278c",
   "metadata": {},
   "source": [
    "## 5.4 Validation Prep"
   ]
  },
  {
   "cell_type": "markdown",
   "id": "3721270d",
   "metadata": {},
   "source": [
    "# 6.0  FEATURE SELECTION\n"
   ]
  },
  {
   "cell_type": "markdown",
   "id": "b2bf16bb",
   "metadata": {},
   "source": [
    "## 6.1 Boruta Feature Selector\n"
   ]
  },
  {
   "cell_type": "markdown",
   "id": "f985da1b",
   "metadata": {},
   "source": [
    "## 6.2 Feature Importance"
   ]
  },
  {
   "cell_type": "markdown",
   "id": "61176986",
   "metadata": {},
   "source": [
    "# 7.0 MACHINE LEARNING\n"
   ]
  },
  {
   "cell_type": "markdown",
   "id": "1cf1e412",
   "metadata": {},
   "source": [
    "## 7.9 Compare Model's Performance"
   ]
  },
  {
   "cell_type": "markdown",
   "id": "8911dcd9",
   "metadata": {},
   "source": [
    "### 7.9.1. Single Performance"
   ]
  },
  {
   "cell_type": "markdown",
   "id": "504cb17f",
   "metadata": {},
   "source": [
    "### 7.9.2. Real Performance - Cross Validation\n"
   ]
  },
  {
   "cell_type": "markdown",
   "id": "aca4f4bb",
   "metadata": {},
   "source": [
    "# 8.0. HYPERPARAMETER FINE TUNING\n"
   ]
  },
  {
   "cell_type": "markdown",
   "id": "bcf605f7",
   "metadata": {},
   "source": [
    "## 8.3 Final Model\n"
   ]
  },
  {
   "cell_type": "markdown",
   "id": "54b04cbb",
   "metadata": {},
   "source": [
    "# 9.0 Business Performance\n"
   ]
  },
  {
   "cell_type": "markdown",
   "id": "09fa0a66",
   "metadata": {},
   "source": [
    "# 10.0 Deploy to Production"
   ]
  },
  {
   "cell_type": "markdown",
   "id": "97180192",
   "metadata": {},
   "source": [
    "## 10.1 Class\n"
   ]
  },
  {
   "cell_type": "markdown",
   "id": "85986e8e",
   "metadata": {},
   "source": [
    "## 10.2 API Handler"
   ]
  },
  {
   "cell_type": "markdown",
   "id": "36d12753",
   "metadata": {},
   "source": [
    "## 10.3 API Tester"
   ]
  },
  {
   "cell_type": "code",
   "execution_count": null,
   "id": "6c58a3c6",
   "metadata": {},
   "outputs": [],
   "source": []
  },
  {
   "cell_type": "code",
   "execution_count": null,
   "id": "237a2706",
   "metadata": {},
   "outputs": [],
   "source": []
  },
  {
   "cell_type": "code",
   "execution_count": null,
   "id": "095332a7",
   "metadata": {},
   "outputs": [],
   "source": []
  },
  {
   "cell_type": "code",
   "execution_count": null,
   "id": "98d23788",
   "metadata": {},
   "outputs": [],
   "source": []
  }
 ],
 "metadata": {
  "kernelspec": {
   "display_name": "Python 3",
   "language": "python",
   "name": "python3"
  },
  "language_info": {
   "codemirror_mode": {
    "name": "ipython",
    "version": 3
   },
   "file_extension": ".py",
   "mimetype": "text/x-python",
   "name": "python",
   "nbconvert_exporter": "python",
   "pygments_lexer": "ipython3",
   "version": "3.8.11"
  },
  "toc": {
   "base_numbering": 1,
   "nav_menu": {},
   "number_sections": false,
   "sideBar": true,
   "skip_h1_title": false,
   "title_cell": "Table of Contents",
   "title_sidebar": "Contents",
   "toc_cell": false,
   "toc_position": {},
   "toc_section_display": true,
   "toc_window_display": true
  },
  "varInspector": {
   "cols": {
    "lenName": 16,
    "lenType": 16,
    "lenVar": 40
   },
   "kernels_config": {
    "python": {
     "delete_cmd_postfix": "",
     "delete_cmd_prefix": "del ",
     "library": "var_list.py",
     "varRefreshCmd": "print(var_dic_list())"
    },
    "r": {
     "delete_cmd_postfix": ") ",
     "delete_cmd_prefix": "rm(",
     "library": "var_list.r",
     "varRefreshCmd": "cat(var_dic_list()) "
    }
   },
   "types_to_exclude": [
    "module",
    "function",
    "builtin_function_or_method",
    "instance",
    "_Feature"
   ],
   "window_display": false
  }
 },
 "nbformat": 4,
 "nbformat_minor": 5
}
